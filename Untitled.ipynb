{
 "cells": [
  {
   "cell_type": "code",
   "execution_count": 1,
   "metadata": {},
   "outputs": [],
   "source": [
    "import pandas as pd \n",
    "import plotly.figure_factory as ff\n",
    "import numpy as np \n",
    "#import chart_studio.plotly as py\n",
    "import plotly.tools as tls\n",
    "#import us \n",
    "import plotly.express as px\n",
    "import json \n",
    "import dash_core_components as dcc\n",
    "from dash.dependencies import Input, Output\n",
    "import dash\n",
    "import dash_core_components as dcc \n",
    "import dash_html_components as html \n",
    "import dash_bootstrap_components as dbc\n",
    "from dash_bootstrap_components.themes import BOOTSTRAP"
   ]
  },
  {
   "cell_type": "code",
   "execution_count": 2,
   "metadata": {},
   "outputs": [],
   "source": [
    "import flask"
   ]
  },
  {
   "cell_type": "code",
   "execution_count": 3,
   "metadata": {},
   "outputs": [],
   "source": [
    "app = dash.Dash(__name__, external_stylesheets=[dbc.themes.BOOTSTRAP]) "
   ]
  },
  {
   "cell_type": "code",
   "execution_count": 4,
   "metadata": {},
   "outputs": [],
   "source": [
    "america_states = json.load(open('gz_2010_us_040_00_500k.json', 'r'))\n",
    "state_id_map = {}\n",
    "for feature in america_states['features']:\n",
    "    feature['id'] = feature['properties']['STATE']\n",
    "    state_id_map[feature['properties']['NAME']] = feature['id']\n",
    "df = pd.read_csv(\"Homeless5.csv\")\n",
    "df['id'] = df['State'].apply(lambda x: state_id_map[x])"
   ]
  },
  {
   "cell_type": "code",
   "execution_count": 5,
   "metadata": {},
   "outputs": [],
   "source": [
    "df1 = pd.read_csv(\"County1.csv\")\n",
    "\n",
    "values = df1['Homeless'].tolist()\n",
    "fips = df1['id_county'].tolist()\n",
    "\n",
    "colorscale = [\n",
    "    'rgb(68.0, 1.0, 84.0)',\n",
    "    'rgb(66.0, 64.0, 134.0)',\n",
    "    'rgb(38.0, 130.0, 142.0)',\n",
    "    'rgb(63.0, 188.0, 115.0)',\n",
    "    'rgb(216.0, 226.0, 25.0)'\n",
    "]\n",
    "\n",
    "fig1 = ff.create_choropleth(fips=fips, values=values, scope = ['CA'], \n",
    "                           binning_endpoints=[1000, 5000, 10000, 30000], colorscale = colorscale,\n",
    "                           county_outline={'color': 'rgb(255,255,255)', 'width': 1.5},\n",
    "                           legend_title='Homeless count per County',\n",
    "                           round_legend_values=True,\n",
    "                           title = \"Homeless Population in Californian Counties in 2016\",\n",
    "                           width=700, height=400)\n",
    "fig1.layout.template = None"
   ]
  },
  {
   "cell_type": "code",
   "execution_count": 6,
   "metadata": {},
   "outputs": [],
   "source": [
    "url_bar_and_content_div = html.Div([\n",
    "    \n",
    "    dcc.Location(id='url', refresh=False),\n",
    "    html.Div(id='page-content')\n",
    "    \n",
    "])"
   ]
  },
  {
   "cell_type": "code",
   "execution_count": 7,
   "metadata": {},
   "outputs": [],
   "source": [
    "navbar = dbc.NavbarSimple(\n",
    "    children=[\n",
    "        dbc.NavItem(dbc.NavLink(\"Home Page\", href=\"/\")),\n",
    "        dbc.NavItem(dbc.NavLink(\"Data\", href=\"/page-1\")),\n",
    "        dbc.NavItem(dbc.NavLink(\"How You Can Help\", href=\"/page-2\")),  \n",
    "    ],\n",
    "    className = \"navbar\",\n",
    "    color=\"black\",\n",
    "    dark=True,\n",
    "    brand=\"Homeless in California\",\n",
    "    brand_href=\"/\",\n",
    ")"
   ]
  },
  {
   "cell_type": "code",
   "execution_count": 8,
   "metadata": {},
   "outputs": [],
   "source": [
    "layout_index = html.Div([\n",
    "    \n",
    "    dbc.Jumbotron(\n",
    "    [\n",
    "        html.H1(\"Help the Homeless\", style = {'text-align': 'center'}),\n",
    "        html.P(\n",
    "            \"Homelessness is increasing rapidly in the United States and we need your help to slow it down!\",\n",
    "            className=\"lead\",\n",
    "        ),\n",
    "        html.Hr(className=\"my-2\"),\n",
    "        html.P(\n",
    "            \"Jumbotrons use utility classes for typography and \"\n",
    "            \"spacing to suit the larger container.\"\n",
    "        ),\n",
    "        html.P(dbc.Button(\"Learn more\", color=\"primary\", href = '/page-1'), className=\"button\")\n",
    "], className = \"jumbotron\"),\n",
    "    \n",
    "])"
   ]
  },
  {
   "cell_type": "code",
   "execution_count": null,
   "metadata": {},
   "outputs": [],
   "source": []
  },
  {
   "cell_type": "code",
   "execution_count": 9,
   "metadata": {},
   "outputs": [],
   "source": [
    "layout_page_1 = html.Div([\n",
    "    html.H1(\"Homelessness Statistics\", style = {'text-align': 'center'}),\n",
    "    \n",
    "    html.Br(),\n",
    "    html.Br(),\n",
    "    \n",
    "    html.H3(\"Homelessness in the United States: \", style = {'text-align': 'left'}),\n",
    "    html.Br(),\n",
    "\n",
    "    html.H5(\"The program below gives you a visual representation of the average amount of homeless people there are per year in the United States.\" , style = {'text-align': 'center'}),\n",
    "    \n",
    "    html.Br(),\n",
    "    html.Br(),\n",
    "    \n",
    "    html.H6(\"Select a Date: \"),\n",
    "    dcc.Dropdown(id = 'select_year',\n",
    "                options = [\n",
    "                    {'label' : '1/1/07', 'value' : '1/1/07'},\n",
    "                    {'label' : '1/1/08', 'value' : '1/1/08'},\n",
    "                    {'label' : '1/1/09', 'value' : '1/1/09'},\n",
    "                    {'label' : '1/1/10', 'value' : '1/1/10'},\n",
    "                    {'label' : '1/1/11', 'value' : '1/1/11'},\n",
    "                    {'label' : '1/1/12', 'value' : '1/1/12'},\n",
    "                    {'label' : '1/1/13', 'value' : '1/1/13'},\n",
    "                    {'label' : '1/1/14', 'value' : '1/1/14'},\n",
    "                    {'label' : '1/1/15', 'value' : '1/1/15'},\n",
    "                    {'label' : '1/1/16', 'value' : '1/1/16'}],\n",
    "                multi = False,\n",
    "                value = '1/1/07',\n",
    "                style = {'width' : '40%'},\n",
    "                ),\n",
    "    html.Div(id = 'output_container', children = []),\n",
    "    html.Br(),\n",
    "    \n",
    "    dcc.Graph(id = 'Homeless_map', figure = {}),\n",
    "    \n",
    "    html.Br(),\n",
    "    html.Br(),\n",
    "    html.Br(),\n",
    "    html.Br(),\n",
    "    \n",
    "    html.H3(\"Homelessness in California: \", style = {'text-align': 'left'}),\n",
    "    html.Br(),\n",
    "    html.H5(\"As you can see, California has the most homeless people in the United States by a wide margin! Let's delve deeper and see which areas are affected the most.\" , style = {'text-align': 'center'}),\n",
    "    \n",
    "    \n",
    "    html.Div([\n",
    "        html.Div([\n",
    "        dcc.Graph(id='choro-map', figure = fig1),\n",
    "        ], className=\"six columns\"),\n",
    "        html.Div([\n",
    "             html.H5(\"Top 3 most affect counties:\" ),\n",
    "             html.H5(\"1) Los Angeles County \"),\n",
    "             html.H5(\"2) San Diego County \" ),\n",
    "             html.H5(\"3) San Francisco County \"),\n",
    "        ], className=\"six columns\"),\n",
    "    ], className=\"row\")\n",
    "\n",
    "])\n",
    "    \n",
    "\n"
   ]
  },
  {
   "cell_type": "code",
   "execution_count": 10,
   "metadata": {},
   "outputs": [],
   "source": [
    "layout_page_2 = html.Div([\n",
    "    html.H2('Page 2'),\n",
    "    dcc.Dropdown(\n",
    "        id='page-2-dropdown',\n",
    "        options=[{'label': i, 'value': i} for i in ['LA', 'NYC', 'MTL']],\n",
    "        value='LA'\n",
    "    ),\n",
    "    html.Div(id='page-2-display-value')\n",
    "])\n"
   ]
  },
  {
   "cell_type": "code",
   "execution_count": 11,
   "metadata": {},
   "outputs": [],
   "source": [
    "app.layout = html.Div(\n",
    "    [navbar, url_bar_and_content_div]\n",
    ")"
   ]
  },
  {
   "cell_type": "code",
   "execution_count": 12,
   "metadata": {},
   "outputs": [],
   "source": [
    "app.validation_layout = html.Div([\n",
    "    url_bar_and_content_div,\n",
    "    layout_index,\n",
    "    layout_page_1,\n",
    "    layout_page_2,\n",
    "])"
   ]
  },
  {
   "cell_type": "code",
   "execution_count": 13,
   "metadata": {},
   "outputs": [],
   "source": [
    "@app.callback(Output(component_id ='page-content', component_property ='children'),\n",
    "              [Input(component_id ='url', component_property ='pathname')])\n",
    "def display_page(pathname):\n",
    "    if pathname == \"/page-1\":\n",
    "        return layout_page_1\n",
    "    elif pathname == \"/page-2\":\n",
    "        return layout_page_2\n",
    "    else:\n",
    "        return layout_index"
   ]
  },
  {
   "cell_type": "code",
   "execution_count": 14,
   "metadata": {},
   "outputs": [],
   "source": [
    "@app.callback(\n",
    "    [Output(component_id = 'output_container', component_property = 'children'),\n",
    "      Output(component_id = 'Homeless_map', component_property = 'figure')],\n",
    "    [Input(component_id = 'select_year', component_property = 'value')]\n",
    "\n",
    ")\n",
    "\n",
    "def update_graph(option_selected):\n",
    "    print(option_selected)\n",
    "    print(type(option_selected))\n",
    "    \n",
    "    container = \"The date that you chose was: {}\".format(option_selected)\n",
    "    \n",
    "    dff = df.copy()\n",
    "    dff = dff[dff['Year'] == option_selected]\n",
    "    \n",
    "    fig = px.choropleth(\n",
    "                   data_frame = dff,\n",
    "                   locations= 'id',\n",
    "                   geojson = america_states,\n",
    "                   color = 'Count', \n",
    "                   scope = 'usa',\n",
    "                   hover_name = 'State',\n",
    "                   hover_data = ['Count'],\n",
    "                   title = \"Homeless People in the United States in {}\".format(option_selected)\n",
    "                   )\n",
    "    \n",
    "    \n",
    "    return container, fig"
   ]
  },
  {
   "cell_type": "code",
   "execution_count": null,
   "metadata": {},
   "outputs": [],
   "source": []
  },
  {
   "cell_type": "code",
   "execution_count": null,
   "metadata": {},
   "outputs": [
    {
     "name": "stdout",
     "output_type": "stream",
     "text": [
      "Dash is running on http://127.0.0.1:8000/\n",
      "\n",
      " Warning: This is a development server. Do not use app.run_server\n",
      " in production, use a production WSGI server like gunicorn instead.\n",
      "\n",
      " * Serving Flask app \"__main__\" (lazy loading)\n",
      " * Environment: production\n",
      "\u001b[31m   WARNING: This is a development server. Do not use it in a production deployment.\u001b[0m\n",
      "\u001b[2m   Use a production WSGI server instead.\u001b[0m\n",
      " * Debug mode: off\n"
     ]
    },
    {
     "name": "stderr",
     "output_type": "stream",
     "text": [
      " * Running on http://127.0.0.1:8000/ (Press CTRL+C to quit)\n"
     ]
    }
   ],
   "source": [
    "@app.callback(Output('page-2-display-value', 'children'),\n",
    "              [Input('page-2-dropdown', 'value')])\n",
    "def display_value(value):\n",
    "    print('display_value')\n",
    "    return 'You have selected \"{}\"'.format(value)\n",
    "\n",
    "if __name__ == '__main__':\n",
    "    app.run_server(debug=False, port=8000)"
   ]
  },
  {
   "cell_type": "code",
   "execution_count": null,
   "metadata": {},
   "outputs": [],
   "source": []
  },
  {
   "cell_type": "code",
   "execution_count": null,
   "metadata": {},
   "outputs": [],
   "source": []
  },
  {
   "cell_type": "code",
   "execution_count": null,
   "metadata": {},
   "outputs": [],
   "source": []
  }
 ],
 "metadata": {
  "kernelspec": {
   "display_name": "Python 3",
   "language": "python",
   "name": "python3"
  },
  "language_info": {
   "codemirror_mode": {
    "name": "ipython",
    "version": 3
   },
   "file_extension": ".py",
   "mimetype": "text/x-python",
   "name": "python",
   "nbconvert_exporter": "python",
   "pygments_lexer": "ipython3",
   "version": "3.7.7"
  }
 },
 "nbformat": 4,
 "nbformat_minor": 4
}
